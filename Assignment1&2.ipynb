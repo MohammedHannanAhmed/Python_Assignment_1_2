{
  "nbformat": 4,
  "nbformat_minor": 0,
  "metadata": {
    "colab": {
      "provenance": []
    },
    "kernelspec": {
      "name": "python3",
      "display_name": "Python 3"
    },
    "language_info": {
      "name": "python"
    }
  },
  "cells": [
    {
      "cell_type": "markdown",
      "source": [
        "**Assignment 1:**"
      ],
      "metadata": {
        "id": "6FI_tQGXRPd5"
      }
    },
    {
      "cell_type": "markdown",
      "source": [
        "Given a string s and a number x, print the shortest substrings which start and end with the same character and have lengths greater than or equal to x. If multiple substrings exist with the same shortest length, print them all.\n",
        "\n",
        "Eg:\n",
        "\n",
        "s: abccdbacca  \n",
        "x: 3\t\tAnswer: acca\n",
        "x: 4\t\tAnswer: acca\n",
        "x: 5\t\tAnswer: bccdb cdbac\n",
        "x: 6 \t\tAnswer:  abccdba\n",
        "x: 7\t\tAnswer: abccdba\n",
        "x: 8\t\tAnswer: not-found\n",
        "\n"
      ],
      "metadata": {
        "id": "3oWO_mEcRUzq"
      }
    },
    {
      "cell_type": "code",
      "execution_count": 11,
      "metadata": {
        "colab": {
          "base_uri": "https://localhost:8080/"
        },
        "id": "cQeltlcOQore",
        "outputId": "b1299593-4ca2-46c8-e711-59f49d2abd54"
      },
      "outputs": [
        {
          "output_type": "stream",
          "name": "stdout",
          "text": [
            "x: 3\tAnswer: acca\n",
            "x: 4\tAnswer: bccdb cdbac\n",
            "x: 5\tAnswer: ccdbac cdbacc\n",
            "x: 6\tAnswer: abccdba ccdbacc\n",
            "x: 7\tAnswer: abccdbacca\n",
            "x: 8\tAnswer: abccdbacca\n"
          ]
        }
      ],
      "source": [
        "def find_shortest_substrings(s, x):\n",
        "    result = []\n",
        "    n = len(s)\n",
        "\n",
        "    for i in range(n):\n",
        "        for j in range(i + x, n):\n",
        "            if s[i] == s[j]:\n",
        "                substr = s[i:j+1]\n",
        "                if len(substr) >= x:\n",
        "                    result.append(substr)\n",
        "\n",
        "    if not result:\n",
        "        print(\"not-found\")\n",
        "    else:\n",
        "        shortest_length = min(len(sub) for sub in result)\n",
        "        shortest_substrings = [sub for sub in result if len(sub) == shortest_length]\n",
        "        print(\" \".join(shortest_substrings))\n",
        "\n",
        "# Test cases\n",
        "s = \"abccdbacca\"\n",
        "x_values = [3, 4, 5, 6, 7, 8]\n",
        "\n",
        "for x in x_values:\n",
        "    print(f\"x: {x}\", end=\"\\tAnswer: \")\n",
        "    find_shortest_substrings(s, x)"
      ]
    },
    {
      "cell_type": "markdown",
      "source": [
        "**Assignment 2 :**"
      ],
      "metadata": {
        "id": "GQDejShNSqAE"
      }
    },
    {
      "cell_type": "markdown",
      "source": [
        "Given a string s, find the ASCII value of each character iteratively. If the ASCII value is even, increment the next character by (ASCII_value % 7). If the ascii value is odd, decrement the previous character by (ASCII_value % 5). Output the newly formed string.\n",
        "Note:\n",
        "If a character has already been changed once, do not change that character again.\n",
        "If the new number is an invalid ASCII value, replace it with 83.\n",
        "\n",
        "Eg:\n",
        "\n",
        "s: sHQen}\n",
        "ASCII: 115-72-81-101-110-125\n",
        "\n",
        "First pass (115): No previous character.\n",
        "\t115-72-81-101-110-125\n",
        "Second pass (72): Increment the next character by (72%7)\n",
        "\t115-72-83-101-110-125\n",
        "Third pass(83): Decrement previous character by (83%5)\n",
        "\t115-69-83-101-110-125\n",
        "Fourth pass (101): Previous character already changed once.\n",
        "\t115-69-83-101-110-125\n",
        "Fifth pass(110): Invalid ASCII value.\n",
        "\t115-69-83-101-110-83\n",
        "Sixth pass(83):\n",
        "\t115-69-83-101-107-83\n",
        "\n",
        "Final Answer:\n",
        "\t115-69-83-101-107-83 => sESekS"
      ],
      "metadata": {
        "id": "vr1CNxTdSur1"
      }
    },
    {
      "cell_type": "code",
      "source": [
        "def modify_string(s):\n",
        "    ascii_values = [ord(char) for char in s]\n",
        "    n = len(s)\n",
        "\n",
        "    # Helper function to check if an ASCII value is valid.\n",
        "    def is_valid_ascii(val):\n",
        "        return val >= 32 and val <= 126\n",
        "\n",
        "    # Perform modifications on ASCII values based on the given conditions.\n",
        "    for i in range(n):\n",
        "        if ascii_values[i] % 2 == 0 and i + 1 < n:\n",
        "            ascii_values[i + 1] += (ascii_values[i] % 7)\n",
        "            if not is_valid_ascii(ascii_values[i + 1]):\n",
        "                ascii_values[i + 1] = 83\n",
        "        elif ascii_values[i] % 2 == 1 and i > 0:\n",
        "            ascii_values[i - 1] -= (ascii_values[i] % 5)\n",
        "            if not is_valid_ascii(ascii_values[i - 1]):\n",
        "                ascii_values[i - 1] = 83\n",
        "\n",
        "    return ''.join(chr(val) for val in ascii_values)\n",
        "\n",
        "# Example usage:\n",
        "s = \"sHQen}\"\n",
        "result = modify_string(s)\n",
        "print(\"Final Answer:\", result)"
      ],
      "metadata": {
        "colab": {
          "base_uri": "https://localhost:8080/"
        },
        "id": "SO28ZKQQS1BL",
        "outputId": "cca81ea3-d63f-435b-b0f8-c51c768d916c"
      },
      "execution_count": 10,
      "outputs": [
        {
          "output_type": "stream",
          "name": "stdout",
          "text": [
            "Final Answer: sERekS\n"
          ]
        }
      ]
    }
  ]
}